{
  "nbformat": 4,
  "nbformat_minor": 0,
  "metadata": {
    "colab": {
      "name": "Untitled0.ipynb",
      "provenance": [],
      "mount_file_id": "1Fz8FtipOn5lP3eQiiwCe6-m3_P2UcGOL",
      "authorship_tag": "ABX9TyNLkjg+qLr4v0sA6/lC/vso",
      "include_colab_link": true
    },
    "kernelspec": {
      "name": "python3",
      "display_name": "Python 3"
    },
    "language_info": {
      "name": "python"
    }
  },
  "cells": [
    {
      "cell_type": "markdown",
      "metadata": {
        "id": "view-in-github",
        "colab_type": "text"
      },
      "source": [
        "<a href=\"https://colab.research.google.com/github/calel95/small-projects/blob/master/An%C3%A1lise%20de%20dados.ipynb\" target=\"_parent\"><img src=\"https://colab.research.google.com/assets/colab-badge.svg\" alt=\"Open In Colab\"/></a>"
      ]
    },
    {
      "cell_type": "code",
      "metadata": {
        "id": "QnrhQyV1GJsP"
      },
      "source": [
        "import pandas as pd\n",
        "import matplotlib.pyplot as plt\n"
      ],
      "execution_count": 1,
      "outputs": []
    },
    {
      "cell_type": "code",
      "metadata": {
        "colab": {
          "base_uri": "https://localhost:8080/",
          "height": 419
        },
        "id": "kQVxWFh0KGFl",
        "outputId": "97e3403a-8fb3-4600-c98a-0ef86a2ec64a"
      },
      "source": [
        "#Carregando a tabela\n",
        "vendas = pd.read_excel(\"/content/drive/MyDrive/Datasets/Vendas - Dez.xlsx\")\n",
        "vendas"
      ],
      "execution_count": 23,
      "outputs": [
        {
          "output_type": "execute_result",
          "data": {
            "text/html": [
              "<div>\n",
              "<style scoped>\n",
              "    .dataframe tbody tr th:only-of-type {\n",
              "        vertical-align: middle;\n",
              "    }\n",
              "\n",
              "    .dataframe tbody tr th {\n",
              "        vertical-align: top;\n",
              "    }\n",
              "\n",
              "    .dataframe thead th {\n",
              "        text-align: right;\n",
              "    }\n",
              "</style>\n",
              "<table border=\"1\" class=\"dataframe\">\n",
              "  <thead>\n",
              "    <tr style=\"text-align: right;\">\n",
              "      <th></th>\n",
              "      <th>Código Venda</th>\n",
              "      <th>Data</th>\n",
              "      <th>ID Loja</th>\n",
              "      <th>Produto</th>\n",
              "      <th>Quantidade</th>\n",
              "      <th>Valor Unitário</th>\n",
              "    </tr>\n",
              "  </thead>\n",
              "  <tbody>\n",
              "    <tr>\n",
              "      <th>0</th>\n",
              "      <td>65014</td>\n",
              "      <td>2019-12-01</td>\n",
              "      <td>Shopping Morumbi</td>\n",
              "      <td>Sunga Listrado</td>\n",
              "      <td>5</td>\n",
              "      <td>114</td>\n",
              "    </tr>\n",
              "    <tr>\n",
              "      <th>1</th>\n",
              "      <td>65014</td>\n",
              "      <td>2019-12-01</td>\n",
              "      <td>Shopping Morumbi</td>\n",
              "      <td>Casaco Listrado</td>\n",
              "      <td>1</td>\n",
              "      <td>269</td>\n",
              "    </tr>\n",
              "    <tr>\n",
              "      <th>2</th>\n",
              "      <td>65016</td>\n",
              "      <td>2019-12-01</td>\n",
              "      <td>Iguatemi Campinas</td>\n",
              "      <td>Sapato Listrado</td>\n",
              "      <td>2</td>\n",
              "      <td>363</td>\n",
              "    </tr>\n",
              "    <tr>\n",
              "      <th>3</th>\n",
              "      <td>65016</td>\n",
              "      <td>2019-12-01</td>\n",
              "      <td>Iguatemi Campinas</td>\n",
              "      <td>Casaco</td>\n",
              "      <td>1</td>\n",
              "      <td>250</td>\n",
              "    </tr>\n",
              "    <tr>\n",
              "      <th>4</th>\n",
              "      <td>65017</td>\n",
              "      <td>2019-12-01</td>\n",
              "      <td>Shopping SP Market</td>\n",
              "      <td>Gorro Liso</td>\n",
              "      <td>3</td>\n",
              "      <td>92</td>\n",
              "    </tr>\n",
              "    <tr>\n",
              "      <th>...</th>\n",
              "      <td>...</td>\n",
              "      <td>...</td>\n",
              "      <td>...</td>\n",
              "      <td>...</td>\n",
              "      <td>...</td>\n",
              "      <td>...</td>\n",
              "    </tr>\n",
              "    <tr>\n",
              "      <th>7084</th>\n",
              "      <td>69996</td>\n",
              "      <td>2019-12-26</td>\n",
              "      <td>Center Shopping Uberlândia</td>\n",
              "      <td>Short Listrado</td>\n",
              "      <td>2</td>\n",
              "      <td>102</td>\n",
              "    </tr>\n",
              "    <tr>\n",
              "      <th>7085</th>\n",
              "      <td>69996</td>\n",
              "      <td>2019-12-26</td>\n",
              "      <td>Center Shopping Uberlândia</td>\n",
              "      <td>Mochila</td>\n",
              "      <td>4</td>\n",
              "      <td>270</td>\n",
              "    </tr>\n",
              "    <tr>\n",
              "      <th>7086</th>\n",
              "      <td>69996</td>\n",
              "      <td>2019-12-26</td>\n",
              "      <td>Center Shopping Uberlândia</td>\n",
              "      <td>Pulseira Estampa</td>\n",
              "      <td>1</td>\n",
              "      <td>87</td>\n",
              "    </tr>\n",
              "    <tr>\n",
              "      <th>7087</th>\n",
              "      <td>69997</td>\n",
              "      <td>2019-12-26</td>\n",
              "      <td>Ribeirão Shopping</td>\n",
              "      <td>Camisa Listrado</td>\n",
              "      <td>1</td>\n",
              "      <td>108</td>\n",
              "    </tr>\n",
              "    <tr>\n",
              "      <th>7088</th>\n",
              "      <td>69997</td>\n",
              "      <td>2019-12-26</td>\n",
              "      <td>Ribeirão Shopping</td>\n",
              "      <td>Short Linho</td>\n",
              "      <td>2</td>\n",
              "      <td>133</td>\n",
              "    </tr>\n",
              "  </tbody>\n",
              "</table>\n",
              "<p>7089 rows × 6 columns</p>\n",
              "</div>"
            ],
            "text/plain": [
              "      Código Venda       Data  ... Quantidade Valor Unitário\n",
              "0            65014 2019-12-01  ...          5            114\n",
              "1            65014 2019-12-01  ...          1            269\n",
              "2            65016 2019-12-01  ...          2            363\n",
              "3            65016 2019-12-01  ...          1            250\n",
              "4            65017 2019-12-01  ...          3             92\n",
              "...            ...        ...  ...        ...            ...\n",
              "7084         69996 2019-12-26  ...          2            102\n",
              "7085         69996 2019-12-26  ...          4            270\n",
              "7086         69996 2019-12-26  ...          1             87\n",
              "7087         69997 2019-12-26  ...          1            108\n",
              "7088         69997 2019-12-26  ...          2            133\n",
              "\n",
              "[7089 rows x 6 columns]"
            ]
          },
          "metadata": {},
          "execution_count": 23
        }
      ]
    },
    {
      "cell_type": "code",
      "metadata": {
        "colab": {
          "base_uri": "https://localhost:8080/"
        },
        "id": "3c2EYFs5MWL1",
        "outputId": "a1b1aeec-7be5-4ca8-8105-f8c057af003d"
      },
      "source": [
        "#Verificando se tem registros nulos\n",
        "vendas.isnull().sum()"
      ],
      "execution_count": 28,
      "outputs": [
        {
          "output_type": "execute_result",
          "data": {
            "text/plain": [
              "Código Venda      0\n",
              "Data              0\n",
              "Nome Loja         0\n",
              "Produto           0\n",
              "Quantidade        0\n",
              "Valor Unitário    0\n",
              "Valor Total       0\n",
              "dtype: int64"
            ]
          },
          "metadata": {},
          "execution_count": 28
        }
      ]
    },
    {
      "cell_type": "code",
      "metadata": {
        "colab": {
          "base_uri": "https://localhost:8080/"
        },
        "id": "93zj9QC5MqK8",
        "outputId": "30b19d0d-e421-405d-8e97-020b048a6815"
      },
      "source": [
        "#Verificando o tipo de dados para ver se precisa trocar\n",
        "vendas.dtypes"
      ],
      "execution_count": 27,
      "outputs": [
        {
          "output_type": "execute_result",
          "data": {
            "text/plain": [
              "Código Venda               int64\n",
              "Data              datetime64[ns]\n",
              "Nome Loja                 object\n",
              "Produto                   object\n",
              "Quantidade                 int64\n",
              "Valor Unitário             int64\n",
              "Valor Total                int64\n",
              "dtype: object"
            ]
          },
          "metadata": {},
          "execution_count": 27
        }
      ]
    },
    {
      "cell_type": "code",
      "metadata": {
        "colab": {
          "base_uri": "https://localhost:8080/",
          "height": 419
        },
        "id": "f9ZbEStlM590",
        "outputId": "eb6e653e-cbc0-4c8f-d2e0-45d14e320545"
      },
      "source": [
        "#Trocando o nome de uma coluna\n",
        "vendas.rename(columns={\"ID Loja\":\"Nome Loja\"}, inplace=True)\n",
        "vendas"
      ],
      "execution_count": 24,
      "outputs": [
        {
          "output_type": "execute_result",
          "data": {
            "text/html": [
              "<div>\n",
              "<style scoped>\n",
              "    .dataframe tbody tr th:only-of-type {\n",
              "        vertical-align: middle;\n",
              "    }\n",
              "\n",
              "    .dataframe tbody tr th {\n",
              "        vertical-align: top;\n",
              "    }\n",
              "\n",
              "    .dataframe thead th {\n",
              "        text-align: right;\n",
              "    }\n",
              "</style>\n",
              "<table border=\"1\" class=\"dataframe\">\n",
              "  <thead>\n",
              "    <tr style=\"text-align: right;\">\n",
              "      <th></th>\n",
              "      <th>Código Venda</th>\n",
              "      <th>Data</th>\n",
              "      <th>Nome Loja</th>\n",
              "      <th>Produto</th>\n",
              "      <th>Quantidade</th>\n",
              "      <th>Valor Unitário</th>\n",
              "    </tr>\n",
              "  </thead>\n",
              "  <tbody>\n",
              "    <tr>\n",
              "      <th>0</th>\n",
              "      <td>65014</td>\n",
              "      <td>2019-12-01</td>\n",
              "      <td>Shopping Morumbi</td>\n",
              "      <td>Sunga Listrado</td>\n",
              "      <td>5</td>\n",
              "      <td>114</td>\n",
              "    </tr>\n",
              "    <tr>\n",
              "      <th>1</th>\n",
              "      <td>65014</td>\n",
              "      <td>2019-12-01</td>\n",
              "      <td>Shopping Morumbi</td>\n",
              "      <td>Casaco Listrado</td>\n",
              "      <td>1</td>\n",
              "      <td>269</td>\n",
              "    </tr>\n",
              "    <tr>\n",
              "      <th>2</th>\n",
              "      <td>65016</td>\n",
              "      <td>2019-12-01</td>\n",
              "      <td>Iguatemi Campinas</td>\n",
              "      <td>Sapato Listrado</td>\n",
              "      <td>2</td>\n",
              "      <td>363</td>\n",
              "    </tr>\n",
              "    <tr>\n",
              "      <th>3</th>\n",
              "      <td>65016</td>\n",
              "      <td>2019-12-01</td>\n",
              "      <td>Iguatemi Campinas</td>\n",
              "      <td>Casaco</td>\n",
              "      <td>1</td>\n",
              "      <td>250</td>\n",
              "    </tr>\n",
              "    <tr>\n",
              "      <th>4</th>\n",
              "      <td>65017</td>\n",
              "      <td>2019-12-01</td>\n",
              "      <td>Shopping SP Market</td>\n",
              "      <td>Gorro Liso</td>\n",
              "      <td>3</td>\n",
              "      <td>92</td>\n",
              "    </tr>\n",
              "    <tr>\n",
              "      <th>...</th>\n",
              "      <td>...</td>\n",
              "      <td>...</td>\n",
              "      <td>...</td>\n",
              "      <td>...</td>\n",
              "      <td>...</td>\n",
              "      <td>...</td>\n",
              "    </tr>\n",
              "    <tr>\n",
              "      <th>7084</th>\n",
              "      <td>69996</td>\n",
              "      <td>2019-12-26</td>\n",
              "      <td>Center Shopping Uberlândia</td>\n",
              "      <td>Short Listrado</td>\n",
              "      <td>2</td>\n",
              "      <td>102</td>\n",
              "    </tr>\n",
              "    <tr>\n",
              "      <th>7085</th>\n",
              "      <td>69996</td>\n",
              "      <td>2019-12-26</td>\n",
              "      <td>Center Shopping Uberlândia</td>\n",
              "      <td>Mochila</td>\n",
              "      <td>4</td>\n",
              "      <td>270</td>\n",
              "    </tr>\n",
              "    <tr>\n",
              "      <th>7086</th>\n",
              "      <td>69996</td>\n",
              "      <td>2019-12-26</td>\n",
              "      <td>Center Shopping Uberlândia</td>\n",
              "      <td>Pulseira Estampa</td>\n",
              "      <td>1</td>\n",
              "      <td>87</td>\n",
              "    </tr>\n",
              "    <tr>\n",
              "      <th>7087</th>\n",
              "      <td>69997</td>\n",
              "      <td>2019-12-26</td>\n",
              "      <td>Ribeirão Shopping</td>\n",
              "      <td>Camisa Listrado</td>\n",
              "      <td>1</td>\n",
              "      <td>108</td>\n",
              "    </tr>\n",
              "    <tr>\n",
              "      <th>7088</th>\n",
              "      <td>69997</td>\n",
              "      <td>2019-12-26</td>\n",
              "      <td>Ribeirão Shopping</td>\n",
              "      <td>Short Linho</td>\n",
              "      <td>2</td>\n",
              "      <td>133</td>\n",
              "    </tr>\n",
              "  </tbody>\n",
              "</table>\n",
              "<p>7089 rows × 6 columns</p>\n",
              "</div>"
            ],
            "text/plain": [
              "      Código Venda       Data  ... Quantidade Valor Unitário\n",
              "0            65014 2019-12-01  ...          5            114\n",
              "1            65014 2019-12-01  ...          1            269\n",
              "2            65016 2019-12-01  ...          2            363\n",
              "3            65016 2019-12-01  ...          1            250\n",
              "4            65017 2019-12-01  ...          3             92\n",
              "...            ...        ...  ...        ...            ...\n",
              "7084         69996 2019-12-26  ...          2            102\n",
              "7085         69996 2019-12-26  ...          4            270\n",
              "7086         69996 2019-12-26  ...          1             87\n",
              "7087         69997 2019-12-26  ...          1            108\n",
              "7088         69997 2019-12-26  ...          2            133\n",
              "\n",
              "[7089 rows x 6 columns]"
            ]
          },
          "metadata": {},
          "execution_count": 24
        }
      ]
    },
    {
      "cell_type": "code",
      "metadata": {
        "id": "lwF6ewEQNS_V"
      },
      "source": [
        "#Criando a coluna de valor total\n",
        "vendas[\"Valor Total\"] = vendas[\"Quantidade\"] * vendas[\"Valor Unitário\"]"
      ],
      "execution_count": 25,
      "outputs": []
    },
    {
      "cell_type": "code",
      "metadata": {
        "colab": {
          "base_uri": "https://localhost:8080/",
          "height": 419
        },
        "id": "uf3QA7n1N_Sd",
        "outputId": "eb612364-218e-4e4b-8504-0265bba1cafb"
      },
      "source": [
        "#Criando as colunas dia, mes e ano, e removendo a colona Data, pois só muda o dia\n",
        "vendas[\"Ano Venda\"] = vendas.Data.dt.year\n",
        "vendas[\"Mes Venda\"] = vendas.Data.dt.month\n",
        "vendas[\"Dia Venda\"] = vendas.Data.dt.day\n",
        "vendas.drop([\"Data\"], axis=1, inplace=True)"
      ],
      "execution_count": 33,
      "outputs": [
        {
          "output_type": "execute_result",
          "data": {
            "text/html": [
              "<div>\n",
              "<style scoped>\n",
              "    .dataframe tbody tr th:only-of-type {\n",
              "        vertical-align: middle;\n",
              "    }\n",
              "\n",
              "    .dataframe tbody tr th {\n",
              "        vertical-align: top;\n",
              "    }\n",
              "\n",
              "    .dataframe thead th {\n",
              "        text-align: right;\n",
              "    }\n",
              "</style>\n",
              "<table border=\"1\" class=\"dataframe\">\n",
              "  <thead>\n",
              "    <tr style=\"text-align: right;\">\n",
              "      <th></th>\n",
              "      <th>Código Venda</th>\n",
              "      <th>Data</th>\n",
              "      <th>Nome Loja</th>\n",
              "      <th>Produto</th>\n",
              "      <th>Quantidade</th>\n",
              "      <th>Valor Unitário</th>\n",
              "      <th>Valor Total</th>\n",
              "      <th>Ano Venda</th>\n",
              "      <th>Mes Venda</th>\n",
              "      <th>Dia Venda</th>\n",
              "    </tr>\n",
              "  </thead>\n",
              "  <tbody>\n",
              "    <tr>\n",
              "      <th>0</th>\n",
              "      <td>65014</td>\n",
              "      <td>2019-12-01</td>\n",
              "      <td>Shopping Morumbi</td>\n",
              "      <td>Sunga Listrado</td>\n",
              "      <td>5</td>\n",
              "      <td>114</td>\n",
              "      <td>570</td>\n",
              "      <td>2019</td>\n",
              "      <td>12</td>\n",
              "      <td>1</td>\n",
              "    </tr>\n",
              "    <tr>\n",
              "      <th>1</th>\n",
              "      <td>65014</td>\n",
              "      <td>2019-12-01</td>\n",
              "      <td>Shopping Morumbi</td>\n",
              "      <td>Casaco Listrado</td>\n",
              "      <td>1</td>\n",
              "      <td>269</td>\n",
              "      <td>269</td>\n",
              "      <td>2019</td>\n",
              "      <td>12</td>\n",
              "      <td>1</td>\n",
              "    </tr>\n",
              "    <tr>\n",
              "      <th>2</th>\n",
              "      <td>65016</td>\n",
              "      <td>2019-12-01</td>\n",
              "      <td>Iguatemi Campinas</td>\n",
              "      <td>Sapato Listrado</td>\n",
              "      <td>2</td>\n",
              "      <td>363</td>\n",
              "      <td>726</td>\n",
              "      <td>2019</td>\n",
              "      <td>12</td>\n",
              "      <td>1</td>\n",
              "    </tr>\n",
              "    <tr>\n",
              "      <th>3</th>\n",
              "      <td>65016</td>\n",
              "      <td>2019-12-01</td>\n",
              "      <td>Iguatemi Campinas</td>\n",
              "      <td>Casaco</td>\n",
              "      <td>1</td>\n",
              "      <td>250</td>\n",
              "      <td>250</td>\n",
              "      <td>2019</td>\n",
              "      <td>12</td>\n",
              "      <td>1</td>\n",
              "    </tr>\n",
              "    <tr>\n",
              "      <th>4</th>\n",
              "      <td>65017</td>\n",
              "      <td>2019-12-01</td>\n",
              "      <td>Shopping SP Market</td>\n",
              "      <td>Gorro Liso</td>\n",
              "      <td>3</td>\n",
              "      <td>92</td>\n",
              "      <td>276</td>\n",
              "      <td>2019</td>\n",
              "      <td>12</td>\n",
              "      <td>1</td>\n",
              "    </tr>\n",
              "    <tr>\n",
              "      <th>...</th>\n",
              "      <td>...</td>\n",
              "      <td>...</td>\n",
              "      <td>...</td>\n",
              "      <td>...</td>\n",
              "      <td>...</td>\n",
              "      <td>...</td>\n",
              "      <td>...</td>\n",
              "      <td>...</td>\n",
              "      <td>...</td>\n",
              "      <td>...</td>\n",
              "    </tr>\n",
              "    <tr>\n",
              "      <th>7084</th>\n",
              "      <td>69996</td>\n",
              "      <td>2019-12-26</td>\n",
              "      <td>Center Shopping Uberlândia</td>\n",
              "      <td>Short Listrado</td>\n",
              "      <td>2</td>\n",
              "      <td>102</td>\n",
              "      <td>204</td>\n",
              "      <td>2019</td>\n",
              "      <td>12</td>\n",
              "      <td>26</td>\n",
              "    </tr>\n",
              "    <tr>\n",
              "      <th>7085</th>\n",
              "      <td>69996</td>\n",
              "      <td>2019-12-26</td>\n",
              "      <td>Center Shopping Uberlândia</td>\n",
              "      <td>Mochila</td>\n",
              "      <td>4</td>\n",
              "      <td>270</td>\n",
              "      <td>1080</td>\n",
              "      <td>2019</td>\n",
              "      <td>12</td>\n",
              "      <td>26</td>\n",
              "    </tr>\n",
              "    <tr>\n",
              "      <th>7086</th>\n",
              "      <td>69996</td>\n",
              "      <td>2019-12-26</td>\n",
              "      <td>Center Shopping Uberlândia</td>\n",
              "      <td>Pulseira Estampa</td>\n",
              "      <td>1</td>\n",
              "      <td>87</td>\n",
              "      <td>87</td>\n",
              "      <td>2019</td>\n",
              "      <td>12</td>\n",
              "      <td>26</td>\n",
              "    </tr>\n",
              "    <tr>\n",
              "      <th>7087</th>\n",
              "      <td>69997</td>\n",
              "      <td>2019-12-26</td>\n",
              "      <td>Ribeirão Shopping</td>\n",
              "      <td>Camisa Listrado</td>\n",
              "      <td>1</td>\n",
              "      <td>108</td>\n",
              "      <td>108</td>\n",
              "      <td>2019</td>\n",
              "      <td>12</td>\n",
              "      <td>26</td>\n",
              "    </tr>\n",
              "    <tr>\n",
              "      <th>7088</th>\n",
              "      <td>69997</td>\n",
              "      <td>2019-12-26</td>\n",
              "      <td>Ribeirão Shopping</td>\n",
              "      <td>Short Linho</td>\n",
              "      <td>2</td>\n",
              "      <td>133</td>\n",
              "      <td>266</td>\n",
              "      <td>2019</td>\n",
              "      <td>12</td>\n",
              "      <td>26</td>\n",
              "    </tr>\n",
              "  </tbody>\n",
              "</table>\n",
              "<p>7089 rows × 10 columns</p>\n",
              "</div>"
            ],
            "text/plain": [
              "      Código Venda       Data  ... Mes Venda Dia Venda\n",
              "0            65014 2019-12-01  ...        12         1\n",
              "1            65014 2019-12-01  ...        12         1\n",
              "2            65016 2019-12-01  ...        12         1\n",
              "3            65016 2019-12-01  ...        12         1\n",
              "4            65017 2019-12-01  ...        12         1\n",
              "...            ...        ...  ...       ...       ...\n",
              "7084         69996 2019-12-26  ...        12        26\n",
              "7085         69996 2019-12-26  ...        12        26\n",
              "7086         69996 2019-12-26  ...        12        26\n",
              "7087         69997 2019-12-26  ...        12        26\n",
              "7088         69997 2019-12-26  ...        12        26\n",
              "\n",
              "[7089 rows x 10 columns]"
            ]
          },
          "metadata": {},
          "execution_count": 33
        }
      ]
    },
    {
      "cell_type": "code",
      "metadata": {
        "colab": {
          "base_uri": "https://localhost:8080/",
          "height": 315
        },
        "id": "hk3Vda_-OcWs",
        "outputId": "a994adc0-0952-444e-ef31-83457eb62c03"
      },
      "source": [
        "#Quantidade de vendas por dia\n",
        "vendas.groupby(\"Dia Venda\")[\"Quantidade\"].sum()\n",
        "#Gráfico\n",
        "vendas.groupby(\"Dia Venda\")[\"Quantidade\"].sum().plot.bar(title=\"Vendas x Dia\")\n",
        "plt.xlabel(\"Dia\")\n",
        "plt.ylabel(\"Venda\")"
      ],
      "execution_count": 95,
      "outputs": [
        {
          "output_type": "execute_result",
          "data": {
            "text/plain": [
              "Text(0, 0.5, 'Venda')"
            ]
          },
          "metadata": {},
          "execution_count": 95
        },
        {
          "output_type": "display_data",
          "data": {
            "image/png": "[encoded data removed]",
            "text/plain": [
              "<Figure size 432x288 with 1 Axes>"
            ]
          },
          "metadata": {
            "needs_background": "light"
          }
        }
      ]
    },
    {
      "cell_type": "code",
      "metadata": {
        "id": "VPk69HeeP6w-"
      },
      "source": [
        "#Convertendo a coluna valor total em float e depois formatando pra apresentar os separadores de milhar no modelo americano\n",
        "vendas[\"Valor Total\"] = vendas[\"Valor Total\"].astype(\"float\")\n",
        "pd.options.display.float_format = '{:,.2f}'.format"
      ],
      "execution_count": 50,
      "outputs": []
    },
    {
      "cell_type": "code",
      "metadata": {
        "colab": {
          "base_uri": "https://localhost:8080/"
        },
        "id": "ZZleLxJKOml-",
        "outputId": "4cb31040-0c54-46ad-f5e6-a7fb15fefa64"
      },
      "source": [
        "#Valor total de vendas por loja\n",
        "vendas.groupby(\"Nome Loja\")[\"Valor Total\"].sum().sort_values(ascending=True)\n"
      ],
      "execution_count": 108,
      "outputs": [
        {
          "output_type": "execute_result",
          "data": {
            "text/plain": [
              "Nome Loja\n",
              "Shopping Center Leste Aricanduva    86,156.00\n",
              "Novo Shopping Ribeirão Preto        99,703.00\n",
              "Norte Shopping                     101,491.00\n",
              "Shopping Barra                     103,148.00\n",
              "Iguatemi Esplanada                 103,342.00\n",
              "Shopping Center Interlagos         103,821.00\n",
              "Shopping Midway Mall               105,269.00\n",
              "Shopping Ibirapuera                107,907.00\n",
              "Shopping SP Market                 110,833.00\n",
              "Passei das Águas Shopping          112,089.00\n",
              "Ribeirão Shopping                  112,936.00\n",
              "Shopping Vila Velha                115,896.00\n",
              "Shopping União de Osasco           116,032.00\n",
              "Shopping Morumbi                   117,936.00\n",
              "Palladium Shopping Curitiba        120,621.00\n",
              "Parque Dom Pedro Shopping          122,055.00\n",
              "Shopping Iguatemi Fortaleza        124,182.00\n",
              "Shopping Eldorado                  124,339.00\n",
              "Center Shopping Uberlândia         124,960.00\n",
              "Bourbon Shopping SP                125,850.00\n",
              "Rio Mar Shopping Fortaleza         127,890.00\n",
              "Salvador Shopping                  129,156.00\n",
              "Shopping Recife                    131,871.00\n",
              "Rio Mar Recife                     139,869.00\n",
              "Iguatemi Campinas                  149,959.00\n",
              "Name: Valor Total, dtype: float64"
            ]
          },
          "metadata": {},
          "execution_count": 108
        }
      ]
    },
    {
      "cell_type": "code",
      "metadata": {
        "colab": {
          "base_uri": "https://localhost:8080/"
        },
        "id": "PLOyWzGmRZIv",
        "outputId": "a98f3ef9-c8ba-4cc4-c0e2-c1eff32884a9"
      },
      "source": [
        "#Verificando a quantidade de vendas de acorod com seu id de venda\n",
        "vendas[\"Código Venda\"].value_counts().count()"
      ],
      "execution_count": 77,
      "outputs": [
        {
          "output_type": "execute_result",
          "data": {
            "text/plain": [
              "3787"
            ]
          },
          "metadata": {},
          "execution_count": 77
        }
      ]
    },
    {
      "cell_type": "code",
      "metadata": {
        "colab": {
          "base_uri": "https://localhost:8080/",
          "height": 504
        },
        "id": "frHUKsyRUFmf",
        "outputId": "721d4807-4a5e-4e33-f6ba-32a7d7001ac5"
      },
      "source": [
        "#Verificando a quantidade e o valor total arrecadado de cada produto\n",
        "vendas.groupby(\"Produto\")[\"Quantidade\",\"Valor Total\"].sum()"
      ],
      "execution_count": 111,
      "outputs": [
        {
          "output_type": "stream",
          "name": "stderr",
          "text": [
            "/usr/local/lib/python3.7/dist-packages/ipykernel_launcher.py:2: FutureWarning: Indexing with multiple keys (implicitly converted to a tuple of keys) will be deprecated, use a list instead.\n",
            "  \n"
          ]
        },
        {
          "output_type": "execute_result",
          "data": {
            "text/html": [
              "<div>\n",
              "<style scoped>\n",
              "    .dataframe tbody tr th:only-of-type {\n",
              "        vertical-align: middle;\n",
              "    }\n",
              "\n",
              "    .dataframe tbody tr th {\n",
              "        vertical-align: top;\n",
              "    }\n",
              "\n",
              "    .dataframe thead th {\n",
              "        text-align: right;\n",
              "    }\n",
              "</style>\n",
              "<table border=\"1\" class=\"dataframe\">\n",
              "  <thead>\n",
              "    <tr style=\"text-align: right;\">\n",
              "      <th></th>\n",
              "      <th>Quantidade</th>\n",
              "      <th>Valor Total</th>\n",
              "    </tr>\n",
              "    <tr>\n",
              "      <th>Produto</th>\n",
              "      <th></th>\n",
              "      <th></th>\n",
              "    </tr>\n",
              "  </thead>\n",
              "  <tbody>\n",
              "    <tr>\n",
              "      <th>Bermuda</th>\n",
              "      <td>123</td>\n",
              "      <td>18,450.00</td>\n",
              "    </tr>\n",
              "    <tr>\n",
              "      <th>Bermuda Estampa</th>\n",
              "      <td>110</td>\n",
              "      <td>18,590.00</td>\n",
              "    </tr>\n",
              "    <tr>\n",
              "      <th>Bermuda Linho</th>\n",
              "      <td>131</td>\n",
              "      <td>25,545.00</td>\n",
              "    </tr>\n",
              "    <tr>\n",
              "      <th>Bermuda Liso</th>\n",
              "      <td>119</td>\n",
              "      <td>18,683.00</td>\n",
              "    </tr>\n",
              "    <tr>\n",
              "      <th>Bermuda Listrado</th>\n",
              "      <td>124</td>\n",
              "      <td>20,212.00</td>\n",
              "    </tr>\n",
              "    <tr>\n",
              "      <th>...</th>\n",
              "      <td>...</td>\n",
              "      <td>...</td>\n",
              "    </tr>\n",
              "    <tr>\n",
              "      <th>Tênis Estampa</th>\n",
              "      <td>125</td>\n",
              "      <td>32,000.00</td>\n",
              "    </tr>\n",
              "    <tr>\n",
              "      <th>Tênis Linho</th>\n",
              "      <td>119</td>\n",
              "      <td>34,986.00</td>\n",
              "    </tr>\n",
              "    <tr>\n",
              "      <th>Tênis Liso</th>\n",
              "      <td>128</td>\n",
              "      <td>34,048.00</td>\n",
              "    </tr>\n",
              "    <tr>\n",
              "      <th>Tênis Listrado</th>\n",
              "      <td>99</td>\n",
              "      <td>25,938.00</td>\n",
              "    </tr>\n",
              "    <tr>\n",
              "      <th>Tênis Xadrez</th>\n",
              "      <td>114</td>\n",
              "      <td>29,526.00</td>\n",
              "    </tr>\n",
              "  </tbody>\n",
              "</table>\n",
              "<p>120 rows × 2 columns</p>\n",
              "</div>"
            ],
            "text/plain": [
              "                  Quantidade  Valor Total\n",
              "Produto                                  \n",
              "Bermuda                  123    18,450.00\n",
              "Bermuda Estampa          110    18,590.00\n",
              "Bermuda Linho            131    25,545.00\n",
              "Bermuda Liso             119    18,683.00\n",
              "Bermuda Listrado         124    20,212.00\n",
              "...                      ...          ...\n",
              "Tênis Estampa            125    32,000.00\n",
              "Tênis Linho              119    34,986.00\n",
              "Tênis Liso               128    34,048.00\n",
              "Tênis Listrado            99    25,938.00\n",
              "Tênis Xadrez             114    29,526.00\n",
              "\n",
              "[120 rows x 2 columns]"
            ]
          },
          "metadata": {},
          "execution_count": 111
        }
      ]
    },
    {
      "cell_type": "code",
      "metadata": {
        "colab": {
          "base_uri": "https://localhost:8080/",
          "height": 265
        },
        "id": "dT3uwoJ6VG-B",
        "outputId": "22b7c52c-3d3d-4a98-b279-545b5169f62c"
      },
      "source": [
        "vendas.groupby(\"Dia Venda\")[\"Valor Total\"].sum().plot.pie()"
      ],
      "execution_count": 122,
      "outputs": [
        {
          "output_type": "execute_result",
          "data": {
            "text/plain": [
              "<matplotlib.axes._subplots.AxesSubplot at 0x7f7b1ba88950>"
            ]
          },
          "metadata": {},
          "execution_count": 122
        },
        {
          "output_type": "display_data",
          "data": {
            "image/png": "[encoded data removed]",
            "text/plain": [
              "<Figure size 432x288 with 1 Axes>"
            ]
          },
          "metadata": {}
        }
      ]
    }
  ]
}